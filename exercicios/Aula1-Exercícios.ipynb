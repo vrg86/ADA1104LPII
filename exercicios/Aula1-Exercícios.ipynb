{
 "cells": [
  {
   "cell_type": "markdown",
   "id": "60dc6434-b74a-4835-920c-7abbf80eea75",
   "metadata": {},
   "source": [
    "#### Faça um programa que olhe todos os itens de uma lista e diga quantos deles são pares."
   ]
  },
  {
   "cell_type": "code",
   "execution_count": 4,
   "id": "6fe38a44-dd1f-42e3-8d5e-2aaa286be6fd",
   "metadata": {},
   "outputs": [
    {
     "name": "stdout",
     "output_type": "stream",
     "text": [
      "[5, 40, 63, 67, 75, 97, 19, 64, 24, 37, 54, 39, 6, 43, 4, 54, 43, 50, 67, 6, 17, 15, 85, 46, 66, 11, 79, 2, 63, 74]\n"
     ]
    }
   ],
   "source": [
    "from random import randint\n",
    "lista_exemplo = [randint(1, 100) for i in range(30)]\n",
    "print(lista_exemplo)"
   ]
  },
  {
   "cell_type": "code",
   "execution_count": 5,
   "id": "010888d1-d0c8-4bc6-9e38-63a7a1679d02",
   "metadata": {},
   "outputs": [
    {
     "name": "stdout",
     "output_type": "stream",
     "text": [
      "A lista possui 13 números pares.\n"
     ]
    }
   ],
   "source": [
    "contador = 0\n",
    "for num in lista_exemplo:\n",
    "    if num % 2 == 0:\n",
    "        contador += 1\n",
    "print(f'A lista possui {contador} números pares.')"
   ]
  },
  {
   "cell_type": "markdown",
   "id": "ebc1c92d-6726-464c-a273-8bdde0f04d9d",
   "metadata": {},
   "source": [
    "#### Faça um programa que imprima o maior número de uma lista, sem usar o método max()"
   ]
  },
  {
   "cell_type": "code",
   "execution_count": 25,
   "id": "24185714-2070-4101-a89e-56de5e546ef1",
   "metadata": {},
   "outputs": [
    {
     "name": "stdout",
     "output_type": "stream",
     "text": [
      "O maior valor na lista é 97.\n"
     ]
    }
   ],
   "source": [
    "valor_max = lista_exemplo[0]\n",
    "for num in lista_exemplo:\n",
    "    if num > valor_max:\n",
    "        valor_max = num\n",
    "print(f'O maior valor na lista é {valor_max}.')\n"
   ]
  },
  {
   "cell_type": "code",
   "execution_count": 46,
   "id": "86e11c22-f0a8-4824-bba5-72c336236553",
   "metadata": {},
   "outputs": [
    {
     "name": "stdout",
     "output_type": "stream",
     "text": [
      "O valor máximo é 97 no índice 5.\n",
      "O valor máximo é 97 no índice 35.\n"
     ]
    }
   ],
   "source": [
    "#Alternativa para o valor máximo\n",
    "lista_exemplo2 = lista_exemplo + lista_exemplo\n",
    "\n",
    "# Achar o valor máximo na lista \n",
    "valor_max = lista_exemplo2[0]\n",
    "for num in lista_exemplo:\n",
    "    if num > valor_max:\n",
    "        valor_max = num\n",
    "\n",
    "#Achar os valores iguais ao máximo e seus índices:\n",
    "index_valor = [(i, valor) for i, valor in enumerate(lista_exemplo2)]\n",
    "valores_max = []\n",
    "for i in index_valor:\n",
    "    if i[1] == valor_max:\n",
    "        valores_max.append(i)\n",
    "        \n",
    "for i in range(len(valores_max)):\n",
    "    print(f'O valor máximo é {valores_max[i][1]} no índice {valores_max[i][0]}.')\n",
    "    \n"
   ]
  },
  {
   "cell_type": "markdown",
   "id": "c62a694e-bb7f-424e-b612-1893f9c98872",
   "metadata": {},
   "source": [
    "#### Faça um Programa que peça as 4 notas bimestrais e mostre a média, usando listas."
   ]
  },
  {
   "cell_type": "code",
   "execution_count": 51,
   "id": "d7a6ad27-f0ca-4e3e-a919-d17cc2c39277",
   "metadata": {},
   "outputs": [
    {
     "name": "stdin",
     "output_type": "stream",
     "text": [
      "Digite a 0ª nota. 5\n",
      "Digite a 1ª nota. 5\n",
      "Digite a 2ª nota. 5\n",
      "Digite a 3ª nota. 5\n"
     ]
    },
    {
     "name": "stdout",
     "output_type": "stream",
     "text": [
      "\n",
      " A média é 5.0.\n"
     ]
    }
   ],
   "source": [
    "notas = []\n",
    "for i in range(4):\n",
    "    nota = float(input(f'Digite a {i}ª nota.'))\n",
    "    notas.append(nota)\n",
    "\n",
    "soma = 0\n",
    "for i in notas:\n",
    "    soma += i\n",
    "\n",
    "print(f'\\n A média é {soma/len(notas)}.')"
   ]
  },
  {
   "cell_type": "markdown",
   "id": "2a6f6c63-f0ad-4e9b-ae41-caca6307c5b1",
   "metadata": {},
   "source": [
    "#### Considere que temos uma lista com os nomes de todos os alunos de uma turma, e outra com as notas, na mesma ordem. Como faríamos para acessar, simultaneamente, o nome de um aluno e a sua nota?"
   ]
  },
  {
   "cell_type": "code",
   "execution_count": 55,
   "id": "713dd1d7-e7d2-4ff9-a34b-30dcd6a552fb",
   "metadata": {},
   "outputs": [
    {
     "name": "stdout",
     "output_type": "stream",
     "text": [
      "('Daniel', 7)\n",
      "('Jeremias', 8)\n",
      "('Otávio', 5)\n"
     ]
    }
   ],
   "source": [
    "#Podemos usar a função zip conforme abaixo\n",
    "lista_alunos = ['Daniel', 'Jeremias', 'Otávio']\n",
    "lista_notas = [7, 8, 5]\n",
    "\n",
    "for i in zip(lista_alunos, lista_notas):\n",
    "    print(i)"
   ]
  },
  {
   "cell_type": "markdown",
   "id": "ba6d0198-d438-438a-bacb-0a00ad1ccb71",
   "metadata": {},
   "source": [
    "#### Para que a entrega de alimentos seja feita com qualidade por um serviço de delivery, é muito importante que as caixas de transporte utilizadas por entregadores tenham um revestimento térmico interno, para manter a temperatura dos alimentos. Muitos destes revestimentos são importados de países que utilizam diferentes escalas de temperatura, de modo que as especificações quanto às temperaturas de operação podem gerar confusão. \n",
    "#### Pensando nisso, escreva um código em Python que recebe um número (que possa ter casas decimais) e a escala de temperatura em que este valor se encontra e para qual ele deseja converter (Celsius, Kelvin ou Fahrenheit). Tanto na escala em que se encontra quanto para a que deseja converter, utilize as letras iniciais como entrada: Celsius - 'C', Kelvin - 'K' ou Fahrenheit - 'F'.\n",
    "Importante: o programa deve trabalhar apenas com as 3 escalas supracitadas! Então, não deixe de fazer as validações necessárias. Além disso, por definição, não existem temperaturas em Kelvin abaixo de zero (o valor zero pode existir), portanto verifique também esta condição para que sejam feitas conversões válidas!"
   ]
  },
  {
   "cell_type": "code",
   "execution_count": 58,
   "id": "eeb6fb72-a2d2-4ec3-8383-80be148b88c3",
   "metadata": {},
   "outputs": [],
   "source": [
    "def kelvin_celsius(temp_kelvin: float) -> float:\n",
    "    return  temp_kelvin - 273\n",
    "\n",
    "def celsius_fahrenheit(temp_celsius:float) -> float:\n",
    "    return temp_celsius*9/5 - 32\n",
    "\n",
    "def fahrenheit_kelvin(temp_fahrenheit: float) -> float:\n",
    "    return 5/9*(temp_fahrenheit - 32) + 273\n",
    "\n",
    "def celsius_kelvin(temp_celsius: float) -> float:\n",
    "    return temp_celsius + 273"
   ]
  },
  {
   "cell_type": "code",
   "execution_count": null,
   "id": "c7135ce7-d592-4e28-a171-082e49311180",
   "metadata": {},
   "outputs": [],
   "source": [
    "while True:\n",
    "    in\n",
    "    if "
   ]
  }
 ],
 "metadata": {
  "kernelspec": {
   "display_name": "python_pratica",
   "language": "python",
   "name": "python_pratica"
  },
  "language_info": {
   "codemirror_mode": {
    "name": "ipython",
    "version": 3
   },
   "file_extension": ".py",
   "mimetype": "text/x-python",
   "name": "python",
   "nbconvert_exporter": "python",
   "pygments_lexer": "ipython3",
   "version": "3.12.0"
  }
 },
 "nbformat": 4,
 "nbformat_minor": 5
}
